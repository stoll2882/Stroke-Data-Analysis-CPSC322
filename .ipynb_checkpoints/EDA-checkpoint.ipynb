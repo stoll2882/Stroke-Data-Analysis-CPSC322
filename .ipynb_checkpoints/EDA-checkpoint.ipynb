{
 "cells": [
  {
   "cell_type": "markdown",
   "metadata": {},
   "source": [
    "# Stroke Data Analysis\n",
    "\n",
    "Dataset source:https://www.kaggle.com/fedesoriano/stroke-prediction-dataset  \n",
    "Note: A copy of this dataset is saved as healthcare-dataset-stroke-data.csv\n",
    "\n",
    "For this project we were provided the following feilds in our dataset:    \n",
    "* Gender\n",
    "* Age\n",
    "* Hypertension\n",
    "* Heart Disease\n",
    "* Marital Status\n",
    "* Work Type\n",
    "* Residence Type\n",
    "* Glucose Level\n",
    "* BMI\n",
    "* Smoking Status\n",
    "\n",
    "And will be using them to predict the following field:\n",
    "* Stroke or no Stroke\n",
    "\n",
    "**This data will help up predict the probablity of another person having a stroke given their information.**"
   ]
  },
  {
   "cell_type": "markdown",
   "metadata": {},
   "source": [
    "### Gathering Data into Table  \n",
    "\n",
    "To gather the data into a table, we used MyPyTable to simply table formation. We loaded the data into a MyPyTable object to be manipulated."
   ]
  },
  {
   "cell_type": "code",
   "execution_count": 47,
   "metadata": {},
   "outputs": [
    {
     "name": "stdout",
     "output_type": "stream",
     "text": [
      "header:  ['id', 'gender', 'age', 'hypertension', 'heart_disease', 'ever_married', 'work_type', 'Residence_type', 'avg_glucose_level', 'bmi', 'smoking_status', 'stroke']\n"
     ]
    }
   ],
   "source": [
    "import importlib\n",
    "import utils\n",
    "import mypytable\n",
    "from mypytable import MyPyTable\n",
    "from myclassifiers import MyKNeighborsClassifier, MyDecisionTreeClassifier, MyRandomForestClassifier\n",
    "#from MyPyTable import MyPyTable\n",
    "stroke_table = MyPyTable()\n",
    "stroke_table.load_from_file(\"healthcare-dataset-stroke-data.csv\");"
   ]
  },
  {
   "cell_type": "code",
   "execution_count": 20,
   "metadata": {},
   "outputs": [
    {
     "data": {
      "text/plain": [
       "<module 'mypytable' from '/Users/samtoll/Desktop/CPSC322/DockerContainerHome/Stroke-Data-Analysis-CPSC322/mypytable.py'>"
      ]
     },
     "execution_count": 20,
     "metadata": {},
     "output_type": "execute_result"
    }
   ],
   "source": [
    "importlib.reload(mypytable)"
   ]
  },
  {
   "cell_type": "markdown",
   "metadata": {},
   "source": [
    "### Dealing With Missing Values  \n",
    "\n",
    "To deal with the missing N/A values, as well as the unknowns - we removed all rows that contained any of these values as we deemed them unncessary. Giving the class imbalance, we double checked to make sure if we rid of the unknown values that it would not effect the class imbalance too greatly... and we concluded it would not.  \n",
    "\n",
    "We also concluded there would still be enough data to preform the classifications."
   ]
  },
  {
   "cell_type": "code",
   "execution_count": 21,
   "metadata": {},
   "outputs": [
    {
     "name": "stdout",
     "output_type": "stream",
     "text": [
      "New length of Table: 3364\n"
     ]
    }
   ],
   "source": [
    "# Remove missing values removes all rows that contain an \"N/A\" or \"Unknown\" field\n",
    "stroke_table.remove_rows_with_missing_values()\n",
    "# Convert to numeric converts all the numeric values in the table into numeric values (as they were read as strings)\n",
    "stroke_table.convert_to_numeric()\n",
    "print(\"New length of Table:\", len(stroke_table.data))"
   ]
  },
  {
   "cell_type": "markdown",
   "metadata": {},
   "source": [
    "### Data Classification  \n",
    "\n",
    "Many of the attributes are string values, and in order to perform the attribute selection with SckiLearns method... they needed to be numerical fields. Therefore we classified the string values as numerical fields as well as transformed the large numerical values into smaller numerical categories as well. Below you can see the classifications that were made.\n",
    "\n",
    "**Gender:**\n",
    "* Male: 0\n",
    "* Female: 1\n",
    "\n",
    "**Age:**\n",
    "* <2 years old: 0\n",
    "* <10 years old: 1\n",
    "* <30 years old: 3\n",
    "* <40 years old: 4\n",
    "* <50 years old: 5\n",
    "* <60 years old: 6\n",
    "* <70 years old: 7\n",
    "* <80 years old: 8\n",
    "* <90 years old: 9\n",
    "* Older than 90: 10\n",
    "\n",
    "**Marital Status:**\n",
    "* No: 0\n",
    "* Yes: 1\n",
    "\n",
    "**Work Status:**\n",
    "* Never Worked: 0\n",
    "* Children: 1\n",
    "* Private: 2\n",
    "* Self-Employed: 3\n",
    "* Government-Job: 4\n",
    "\n",
    "**Residence Type:**\n",
    "* Urban: 0\n",
    "* Rural: 1\n",
    "\n",
    "**Glucose Level:**\n",
    "* <70: 0\n",
    "* <140: 1\n",
    "* <200: 2\n",
    "* Greater than 200: 3\n",
    "\n",
    "**BMI:**\n",
    "* <15: 0\n",
    "* <20: 1\n",
    "* <25: 2\n",
    "* <30: 3\n",
    "* <40: 4\n",
    "* Greater than 40: 5\n",
    "\n",
    "**Smoking Status:**\n",
    "* Never Smoked: 0\n",
    "* Formerly Smoked: 1\n",
    "* Smokes: 2"
   ]
  },
  {
   "cell_type": "code",
   "execution_count": 22,
   "metadata": {},
   "outputs": [
    {
     "name": "stdout",
     "output_type": "stream",
     "text": [
      "[9046.0, 'Male', 67.0, 0.0, 1.0, 'Yes', 'Private', 'Urban', 228.69, 36.6, 'formerly smoked', 1.0]\n"
     ]
    }
   ],
   "source": [
    "# importlib.reload(utils)\n",
    "print(stroke_table.data[0])"
   ]
  },
  {
   "cell_type": "code",
   "execution_count": 24,
   "metadata": {},
   "outputs": [
    {
     "name": "stdout",
     "output_type": "stream",
     "text": [
      "[9046.0, 0, 7, 0.0, 1.0, 1, 2, 0, 3, 4, 1, 1.0]\n"
     ]
    }
   ],
   "source": [
    "# First time running, you have to run this cell twice in order to let it catch up and print the classification as it is correctly\n",
    "classified_data = utils.classify_stroke_data(stroke_table.data)\n",
    "print(classified_data[0])"
   ]
  },
  {
   "cell_type": "markdown",
   "metadata": {},
   "source": [
    "### Remove Irrelevant Columns  \n",
    "\n",
    "Because the ID column is not neccessary in our classification, we removed it so that ID would not be a field in deciding whether or not someone will have a stroke. As there is no correlation between ID number, and result."
   ]
  },
  {
   "cell_type": "code",
   "execution_count": 25,
   "metadata": {},
   "outputs": [
    {
     "name": "stdout",
     "output_type": "stream",
     "text": [
      "[0, 7, 0.0, 1.0, 1, 2, 0, 3, 4, 1, 1.0]\n"
     ]
    }
   ],
   "source": [
    "classified_data = utils.remove_id_column(classified_data)\n",
    "print(classified_data[0])"
   ]
  },
  {
   "cell_type": "code",
   "execution_count": 26,
   "metadata": {},
   "outputs": [],
   "source": [
    "stroke_table.data = classified_data\n",
    "# Getting rid of one row with other gender option\n",
    "del stroke_table.data[2055]"
   ]
  },
  {
   "cell_type": "code",
   "execution_count": 27,
   "metadata": {},
   "outputs": [],
   "source": [
    "stroke_table.save_to_file('newfile.csv')"
   ]
  },
  {
   "cell_type": "markdown",
   "metadata": {},
   "source": [
    "### Seperate Data into X and y Trains"
   ]
  },
  {
   "cell_type": "code",
   "execution_count": 28,
   "metadata": {},
   "outputs": [],
   "source": [
    "del stroke_table.column_names[0]\n",
    "X_train, y_train, new_col_names = utils.get_trains_seperated(classified_data, stroke_table.column_names, \"stroke\")"
   ]
  },
  {
   "cell_type": "markdown",
   "metadata": {},
   "source": [
    "### Attribute Selection with SciLearn"
   ]
  },
  {
   "cell_type": "markdown",
   "metadata": {},
   "source": [
    "We used SkiLearns SelectKBest Algorithm in order to select the best attributes with the largest correlation to the resulting outcome.  \n",
    "\n"
   ]
  },
  {
   "cell_type": "code",
   "execution_count": 29,
   "metadata": {},
   "outputs": [
    {
     "name": "stdout",
     "output_type": "stream",
     "text": [
      "['gender', 'age', 'hypertension', 'heart_disease', 'ever_married', 'work_type', 'Residence_type', 'avg_glucose_level', 'bmi', 'smoking_status', 'stroke']\n"
     ]
    }
   ],
   "source": [
    "from sklearn.feature_selection import SelectKBest\n",
    "print(stroke_table.column_names)"
   ]
  },
  {
   "cell_type": "code",
   "execution_count": 30,
   "metadata": {},
   "outputs": [
    {
     "name": "stdout",
     "output_type": "stream",
     "text": [
      "[[7. 0. 1. 1. 3. 4.]\n",
      " [8. 0. 1. 1. 1. 4.]\n",
      " [5. 0. 0. 1. 2. 4.]\n",
      " ...\n",
      " [9. 0. 0. 1. 1. 4.]\n",
      " [4. 0. 0. 1. 1. 4.]\n",
      " [6. 0. 0. 1. 2. 3.]]\n",
      "3363\n"
     ]
    }
   ],
   "source": [
    "X_best = SelectKBest(k=6).fit_transform(X_train, y_train)\n",
    "print(X_best)\n",
    "print(len(X_best))"
   ]
  },
  {
   "cell_type": "code",
   "execution_count": 31,
   "metadata": {},
   "outputs": [],
   "source": [
    "# Use 6 attributes the algorithm selected to create the new header:\n",
    "new_header = ['age', 'hypertension', 'heart_disease', 'ever_married', 'avg_glucose_level', 'bmi']"
   ]
  },
  {
   "cell_type": "markdown",
   "metadata": {},
   "source": [
    "### Attribute Selection Without SciLearn\n",
    "\n",
    "We selected these attributes to use from the data set because we could identify the largest correclations between those upon inital scanning throug the set. \n",
    "\n",
    "While grabbing the inital columns for these attributes we wanted to make sure to keep them all the same length and raw so that we can make sure to keep every persons profiles intact across the columns. For this we used a simple function to grab the entire column without cleaning out and NA values so we can send them into a new file. "
   ]
  },
  {
   "cell_type": "code",
   "execution_count": 32,
   "metadata": {},
   "outputs": [
    {
     "name": "stdout",
     "output_type": "stream",
     "text": [
      "['gender', 'age', 'hypertension', 'heart_disease', 'ever_married', 'work_type', 'Residence_type', 'avg_glucose_level', 'bmi', 'smoking_status', 'stroke']\n"
     ]
    }
   ],
   "source": [
    "selected_cols = ['gender', 'age', 'heart_disease', 'ever_married', 'work_type', 'bmi', 'stroke']\n",
    "selected_data = [[]]\n",
    "print(stroke_table.column_names)\n",
    "gender_col = utils.get_col_no_clean(stroke_table.data, stroke_table.column_names, \"gender\")\n",
    "selected_data.append(gender_col)\n",
    "age_col =  utils.get_col_no_clean(stroke_table.data, stroke_table.column_names, \"age\")\n",
    "selected_data.append(age_col)\n",
    "heart_disease_col =  utils.get_col_no_clean(stroke_table.data, stroke_table.column_names, \"heart_disease\")\n",
    "selected_data.append(heart_disease_col)\n",
    "married_col = utils.get_col_no_clean(stroke_table.data, stroke_table.column_names, \"ever_married\")\n",
    "selected_data.append(married_col)\n",
    "work_type_col = utils.get_col_no_clean(stroke_table.data, stroke_table.column_names, \"work_type\")\n",
    "selected_data.append(work_type_col)\n",
    "bmi_col = utils.get_col_no_clean(stroke_table.data, stroke_table.column_names, \"bmi\")\n",
    "selected_data.append(bmi_col)\n",
    "stroke_col = utils.get_col_no_clean(stroke_table.data, stroke_table.column_names, \"stroke\")\n",
    "selected_data.append(stroke_col)\n",
    "\n",
    "stroke_data = MyPyTable(selected_cols,selected_data)\n",
    "#stroke_data.save_to_file(\"refined_cols.csv\")\n",
    "   "
   ]
  },
  {
   "cell_type": "markdown",
   "metadata": {},
   "source": [
    "We will use a frequency diagram to look at ditrubutions within the dataset to being understanding it further."
   ]
  },
  {
   "cell_type": "code",
   "execution_count": 33,
   "metadata": {},
   "outputs": [
    {
     "data": {
      "image/png": "[encoded data removed]",
      "text/plain": [
       "<Figure size 432x288 with 1 Axes>"
      ]
     },
     "metadata": {},
     "output_type": "display_data"
    },
    {
     "name": "stdout",
     "output_type": "stream",
     "text": [
      "Number of data entries:  3363\n",
      "Number Had Stroke:  162.0\n",
      "Number Did Not Have Stroke:  3201.0\n"
     ]
    }
   ],
   "source": [
    "importlib.reload(utils)\n",
    "import plot_utils\n",
    "\n",
    "title = \"Class Distribution\"\n",
    "utils.convert_to_numeric(stroke_col)\n",
    "stroke_vals = [\"Had Stroke\", \"No Stroke\"]\n",
    "percents = []\n",
    "num_strokes = sum(stroke_col)\n",
    "\n",
    "num_entries = len(stroke_col)\n",
    "num_no_strokes = num_entries - num_strokes\n",
    "\n",
    "\n",
    "stroke_percent = num_strokes / num_entries\n",
    "percents.append(stroke_percent)\n",
    "no_stroke_percent = num_no_strokes / num_entries\n",
    "percents.append(no_stroke_percent)\n",
    "\n",
    "plot_utils.pie_chart(stroke_vals, percents, title)\n",
    "\n",
    "print(\"Number of data entries: \", num_entries)\n",
    "print(\"Number Had Stroke: \", num_strokes)\n",
    "print(\"Number Did Not Have Stroke: \", num_no_strokes)\n",
    "\n"
   ]
  },
  {
   "cell_type": "markdown",
   "metadata": {},
   "source": [
    "### Class Imbalance\n",
    "\n",
    "As shown in the distribution pie chart, the class distribution is extremely skewed to the non-stoke side where there are 4,861 cases of no stroke compared to 249 cases that resulted in stroke. While this is good news that there were not nearly as many people that had a stroke, this is something we will have to be very careful with throughout the rest of our data exploration and classifications.\n",
    "\n",
    "#### Reseaching   \n",
    "Looking at a few sources on dealing with class imbalance so far we have determined that two of the most relevant approaches we should take "
   ]
  },
  {
   "cell_type": "markdown",
   "metadata": {},
   "source": [
    "## Testing our classifiers with the dataset"
   ]
  },
  {
   "cell_type": "markdown",
   "metadata": {},
   "source": [
    "### kNN Classifier"
   ]
  },
  {
   "cell_type": "code",
   "execution_count": 477,
   "metadata": {},
   "outputs": [],
   "source": [
    "knn_classifier = MyKNeighborsClassifier()\n",
    "knn_classifier.fit(X_train, y_train)"
   ]
  },
  {
   "cell_type": "code",
   "execution_count": 478,
   "metadata": {},
   "outputs": [
    {
     "name": "stdout",
     "output_type": "stream",
     "text": [
      "kNN Accuracy: 0.9387451680047576\n",
      "kNN Error Rate: 0.0612548319952424\n"
     ]
    }
   ],
   "source": [
    "knn_accuracy, knn_error_rate = utils.get_accuracy_and_error_rate(knn_classifier)\n",
    "print(\"kNN Accuracy:\", knn_accuracy)\n",
    "print(\"kNN Error Rate:\", knn_error_rate)# import myevaluation as myevaluation"
   ]
  },
  {
   "cell_type": "markdown",
   "metadata": {},
   "source": [
    "### Decision Tree Classifier"
   ]
  },
  {
   "cell_type": "code",
   "execution_count": 479,
   "metadata": {},
   "outputs": [],
   "source": [
    "DT_classifier = MyDecisionTreeClassifier()\n",
    "DT_classifier.fit(X_train, y_train)"
   ]
  },
  {
   "cell_type": "code",
   "execution_count": 480,
   "metadata": {},
   "outputs": [
    {
     "name": "stdout",
     "output_type": "stream",
     "text": [
      "Decision Tree Accuracy: 0.9542075527802557\n",
      "Decision Tree Error Rate: 0.04579244721974429\n"
     ]
    }
   ],
   "source": [
    "DT_accuracy, DT_error_rate = utils.get_accuracy_and_error_rate(DT_classifier)\n",
    "print(\"Decision Tree Accuracy:\", DT_accuracy)\n",
    "print(\"Decision Tree Error Rate:\", DT_error_rate)"
   ]
  },
  {
   "cell_type": "markdown",
   "metadata": {},
   "source": [
    "Based on the severe class imbalance of the data, having results around 95% really don't tell us much about the data and the true accuracy of the classifiers above. In order to account for this, we are going to use **downscaling** to create a much more balanced class distribution! To give us a good amount of data points to still work with we will reinsert the rows from the stroke column that we removed for being \"unknown\" that will take our positive stoke cases from 162 back up to 250 so we will have aroun 500 rows to work with to give us more interesting and reliable results from our classifiers. \n",
    "\n",
    "### Invesitgating unknowns in the \"smoking_status\" column to be able to use more data points  \n",
    "This allows us to determine if there is a clear majority so we can assign the unknonws using a majority label"
   ]
  },
  {
   "cell_type": "code",
   "execution_count": 34,
   "metadata": {},
   "outputs": [
    {
     "name": "stdout",
     "output_type": "stream",
     "text": [
      "header:  ['id', 'gender', 'age', 'hypertension', 'heart_disease', 'ever_married', 'work_type', 'Residence_type', 'avg_glucose_level', 'bmi', 'smoking_status', 'stroke']\n"
     ]
    },
    {
     "data": {
      "image/png": "[encoded data removed]",
      "text/plain": [
       "<Figure size 432x288 with 1 Axes>"
      ]
     },
     "metadata": {
      "needs_background": "light"
     },
     "output_type": "display_data"
    }
   ],
   "source": [
    "import plot_utils\n",
    "# made a second mypytable object to try different method of cleaning \n",
    "stroke_table_2 = MyPyTable()\n",
    "stroke_table_2.load_from_file(\"healthcare-dataset-stroke-data.csv\");\n",
    "\n",
    "#only looking at first 245 columns where the person did have a stroke\n",
    "smoke_values, smoke_counts = utils.get_frequencies(stroke_table_2.data[:249], stroke_table_2.column_names, \"smoking_status\")\n",
    "smoke_title = \"Frequency Distribution by Smoking Status\"\n",
    "plot_utils.bar_chart(smoke_values, smoke_counts, smoke_title)"
   ]
  },
  {
   "cell_type": "markdown",
   "metadata": {},
   "source": [
    "This chart demonstrates that there is no overwhelming majority of \"smoking_status\" within the dataset of all the positive stroke cases and therefore would not be a good way to reassign the unknown values.  \n",
    "\n",
    "\n",
    "Instead, we will try using the knn classifier and use a rows nearest neighbors to re-assign its smoking status.  \n",
    "\n",
    "\n",
    "For this we will first reassign the \"unknown\" values in the 250 rows where the person did expereince a stroke, and then we will grab an equal number of no strokes rows at random so that there is no class imbalance. We will run through these rows to see if there are any unknowns and then will be able to reassign those values based on their neriest neghbors before testing the new set in our classifiers! "
   ]
  },
  {
   "cell_type": "markdown",
   "metadata": {},
   "source": [
    "### Using kNN classifier in order to replace smoking unknowns with k-nearest neighbors"
   ]
  },
  {
   "cell_type": "code",
   "execution_count": 35,
   "metadata": {},
   "outputs": [],
   "source": [
    "from mypytable import MyPyTable\n",
    "import mypytable"
   ]
  },
  {
   "cell_type": "code",
   "execution_count": 37,
   "metadata": {},
   "outputs": [
    {
     "data": {
      "text/plain": [
       "<module 'mypytable' from '/Users/samtoll/Desktop/CPSC322/DockerContainerHome/Stroke-Data-Analysis-CPSC322/mypytable.py'>"
      ]
     },
     "execution_count": 37,
     "metadata": {},
     "output_type": "execute_result"
    }
   ],
   "source": [
    "importlib.reload(mypytable)\n",
    "# importlib.reload(myutils)"
   ]
  },
  {
   "cell_type": "code",
   "execution_count": 38,
   "metadata": {},
   "outputs": [],
   "source": [
    "#classifying into the numeric values \n",
    "stroke_table_2.remove_rows_with_na_only()\n",
    "stroke_table_2.convert_to_numeric()"
   ]
  },
  {
   "cell_type": "code",
   "execution_count": 40,
   "metadata": {},
   "outputs": [],
   "source": [
    "# run twice before moving on\n",
    "classified_data_2 = utils.classify_stroke_data(stroke_table_2.data)"
   ]
  },
  {
   "cell_type": "code",
   "execution_count": 41,
   "metadata": {},
   "outputs": [
    {
     "name": "stdout",
     "output_type": "stream",
     "text": [
      "[[0, 7, 0.0, 1.0, 1, 2, 0, 3, 4, 1, 1.0], [0, 8, 0.0, 1.0, 1, 2, 1, 1, 4, 0, 1.0], [1, 5, 0.0, 0.0, 1, 2, 0, 2, 4, 2, 1.0], [1, 8, 1.0, 0.0, 1, 3, 1, 2, 2, 0, 1.0], [0, 9, 0.0, 0.0, 1, 2, 0, 2, 3, 1, 1.0], [0, 8, 1.0, 1.0, 1, 2, 1, 1, 3, 0, 1.0], [1, 7, 0.0, 0.0, 0, 2, 0, 1, 2, 0, 1.0], [1, 8, 0.0, 0.0, 1, 2, 0, 0, 2, -1, 1.0], [1, 9, 1.0, 0.0, 1, 2, 1, 1, 3, 0, 1.0], [1, 7, 0.0, 1.0, 1, 4, 1, 1, 4, 2, 1.0], [1, 6, 0.0, 0.0, 1, 2, 0, 1, 3, 2, 1.0], [1, 8, 0.0, 1.0, 1, 2, 0, 3, 3, 0, 1.0], [1, 5, 1.0, 0.0, 1, 3, 1, 2, 4, 0, 1.0], [0, 7, 0.0, 1.0, 1, 2, 0, 2, 4, 2, 1.0], [0, 8, 1.0, 0.0, 1, 2, 0, 3, 3, 2, 1.0], [1, 6, 0.0, 0.0, 0, 2, 0, 1, 4, 0, 1.0], [1, 8, 0.0, 0.0, 1, 4, 1, 2, 2, 2, 1.0], [1, 6, 1.0, 0.0, 1, 3, 0, 3, 5, 0, 1.0], [1, 8, 0.0, 0.0, 1, 3, 0, 3, 3, 0, 1.0], [0, 9, 0.0, 1.0, 1, 2, 1, 3, 4, -1, 1.0]]\n"
     ]
    }
   ],
   "source": [
    "#removing unused col\n",
    "classified_data_2 = utils.remove_id_column(classified_data_2)\n",
    "stroke_table_2.data = classified_data_2\n",
    "print(stroke_table_2.data[:20])"
   ]
  },
  {
   "cell_type": "code",
   "execution_count": 43,
   "metadata": {},
   "outputs": [],
   "source": [
    "# importlib.reload(myclassifiers);\n",
    "importlib.reload(utils);"
   ]
  },
  {
   "cell_type": "code",
   "execution_count": 44,
   "metadata": {},
   "outputs": [
    {
     "name": "stdout",
     "output_type": "stream",
     "text": [
      "New length of Table: 4909\n"
     ]
    }
   ],
   "source": [
    "print(\"New length of Table:\", len(stroke_table_2.data))\n",
    "'''\n",
    "later\n",
    "knn_smoking_accuracy, knn_smoking_error_rate = utils.get_accuracy_and_error_rate(knn_for_smoking)\n",
    "''';\n"
   ]
  },
  {
   "cell_type": "code",
   "execution_count": 48,
   "metadata": {},
   "outputs": [],
   "source": [
    "#use only rows where person did have a stroke? [:249]\n",
    "smoke_X_train, smoke_y_train, new_col_names = utils.get_trains_seperated(stroke_table_2.data, stroke_table_2.column_names, \"smoking_status\")\n",
    "\n",
    "knn_for_smoking = MyKNeighborsClassifier(10)\n",
    "knn_for_smoking.fit(smoke_X_train, smoke_y_train)\n",
    "utils.remove_other_row(smoke_X_train)\n",
    "# print(knn_for_smoking.X_train[20:50])"
   ]
  },
  {
   "cell_type": "code",
   "execution_count": 49,
   "metadata": {},
   "outputs": [
    {
     "name": "stdout",
     "output_type": "stream",
     "text": [
      "9\n",
      "[[0, 7, 0.0, 1.0, 1, 2, 0, 3, 4, 1], [0, 8, 0.0, 1.0, 1, 2, 1, 1, 4, 0], [1, 5, 0.0, 0.0, 1, 2, 0, 2, 4, 2], [1, 8, 1.0, 0.0, 1, 3, 1, 2, 2, 0], [0, 9, 0.0, 0.0, 1, 2, 0, 2, 3, 1], [0, 8, 1.0, 1.0, 1, 2, 1, 1, 3, 0], [1, 7, 0.0, 0.0, 0, 2, 0, 1, 2, 0], [1, 8, 0.0, 0.0, 1, 2, 0, 0, 2, 0], [1, 9, 1.0, 0.0, 1, 2, 1, 1, 3, 0], [1, 7, 0.0, 1.0, 1, 4, 1, 1, 4, 2]]\n"
     ]
    }
   ],
   "source": [
    "# Replace all unknowns of stroke positive data with k nearest neighbors\n",
    "knn_for_smoking.replace_unknowns_with_k_neighbors(9)\n",
    "print(knn_for_smoking.X_train[:10])"
   ]
  },
  {
   "cell_type": "markdown",
   "metadata": {},
   "source": [
    "### Random Sampling to Even out Data Distribution"
   ]
  },
  {
   "cell_type": "markdown",
   "metadata": {},
   "source": [
    "Making the no stroke half of the set:"
   ]
  },
  {
   "cell_type": "code",
   "execution_count": 50,
   "metadata": {},
   "outputs": [
    {
     "name": "stdout",
     "output_type": "stream",
     "text": [
      "3363\n",
      "length of non_stroke_data: 249\n",
      "length of _stroke_data: 249\n",
      "data preview:\n"
     ]
    },
    {
     "data": {
      "text/plain": [
       "[[0, 2, 0.0, 0.0, 0, 1, 0, 1, 4, 0, 0.0],\n",
       " [1, 2, 0.0, 0.0, 0, 2, 0, 1, 2, 1, 0.0],\n",
       " [1, 7, 1.0, 0.0, 1, 3, 1, 1, 3, 0, 0.0],\n",
       " [1, 4, 0.0, 0.0, 1, 2, 0, 3, 1, 2, 0.0],\n",
       " [0, 6, 1.0, 0.0, 1, 3, 0, 1, 3, 0, 0.0],\n",
       " [0, 8, 0.0, 0.0, 1, 2, 0, 1, 3, 1, 0.0],\n",
       " [0, 6, 0.0, 0.0, 1, 2, 1, 1, 4, 0, 0.0],\n",
       " [1, 7, 0.0, 0.0, 1, 2, 1, 1, 3, 0, 0.0],\n",
       " [1, 6, 0.0, 0.0, 1, 2, 1, 1, 4, 0, 0.0],\n",
       " [1, 7, 0.0, 0.0, 0, 2, 0, 1, 4, 1, 0.0]]"
      ]
     },
     "execution_count": 50,
     "metadata": {},
     "output_type": "execute_result"
    }
   ],
   "source": [
    "# Randomly select 250 of the no stroke rows\n",
    "import random\n",
    "import numpy as np\n",
    "import copy\n",
    "\n",
    "# grab 250 random rows from [250:] in stroke_table_2.data\n",
    "# use groupby with smoking status to see how many (if any) of those rows are unknowns\n",
    "stroke_data = classified_data[:249]\n",
    "non_stroke_data = classified_data[249:]\n",
    "chosen_non_stroke_data = []\n",
    "\n",
    "np.random.seed(0)\n",
    "for i in range(249):\n",
    "    rand_index = np.random.randint(249, 3363)\n",
    "    chosen_non_stroke_data.append(classified_data[rand_index])\n",
    "\n",
    "print(len(classified_data))\n",
    "print(\"length of non_stroke_data:\", len(chosen_non_stroke_data))\n",
    "print(\"length of _stroke_data:\", len(stroke_data))\n",
    "print(\"data preview:\")\n",
    "chosen_non_stroke_data[:10]\n",
    "\n",
    "# use knn to reassign those rows based on their nearest neighbors \n",
    "# ... test the classification!"
   ]
  },
  {
   "cell_type": "code",
   "execution_count": 51,
   "metadata": {},
   "outputs": [
    {
     "name": "stdout",
     "output_type": "stream",
     "text": [
      "[[0, 7, 0.0, 1.0, 1, 2, 0, 3, 4, 1, 1.0], [0, 8, 0.0, 1.0, 1, 2, 1, 1, 4, 0, 1.0], [1, 5, 0.0, 0.0, 1, 2, 0, 2, 4, 2, 1.0], [1, 8, 1.0, 0.0, 1, 3, 1, 2, 2, 0, 1.0], [0, 9, 0.0, 0.0, 1, 2, 0, 2, 3, 1, 1.0], [0, 8, 1.0, 1.0, 1, 2, 1, 1, 3, 0, 1.0], [1, 9, 1.0, 0.0, 1, 2, 1, 1, 3, 0, 1.0], [1, 7, 0.0, 1.0, 1, 4, 1, 1, 4, 2, 1.0], [1, 8, 0.0, 1.0, 1, 2, 0, 3, 3, 0, 1.0], [1, 5, 1.0, 0.0, 1, 3, 1, 2, 4, 0, 1.0]]\n"
     ]
    }
   ],
   "source": [
    "# join smoking and non smoking data back together\n",
    "all_data = copy.deepcopy(stroke_data)\n",
    "for row in chosen_non_stroke_data:\n",
    "    all_data.append(row)\n",
    "print(all_data[:10])"
   ]
  },
  {
   "cell_type": "markdown",
   "metadata": {},
   "source": [
    "## Classification Testing with Our Classifiers With Equally Distributed Data"
   ]
  },
  {
   "cell_type": "markdown",
   "metadata": {},
   "source": [
    "We plan to use a couple of our own classifiers, along with the RandomForestClassifier in order to test which classifier will be the most accurate to use in our final data classification."
   ]
  },
  {
   "cell_type": "code",
   "execution_count": 70,
   "metadata": {},
   "outputs": [],
   "source": [
    "# Import Classifiers\n",
    "from myclassifiers import MyKNeighborsClassifier, MySimpleLinearRegressor, MyNaiveBayesClassifier, MyDecisionTreeClassifier, MyRandomForestClassifier\n",
    "import myclassifiers\n",
    "importlib.reload(myclassifiers);\n",
    "importlib.reload(utils);"
   ]
  },
  {
   "cell_type": "code",
   "execution_count": 71,
   "metadata": {},
   "outputs": [
    {
     "name": "stdout",
     "output_type": "stream",
     "text": [
      "11\n",
      "[0, 7, 0.0, 1.0, 1, 2, 0, 3, 4, 1, 1.0]\n",
      "[[0, 7, 0.0, 1.0, 1, 2, 0, 3, 4, 1, 1.0], [0, 8, 0.0, 1.0, 1, 2, 1, 1, 4, 0, 1.0], [1, 5, 0.0, 0.0, 1, 2, 0, 2, 4, 2, 1.0], [1, 8, 1.0, 0.0, 1, 3, 1, 2, 2, 0, 1.0], [0, 9, 0.0, 0.0, 1, 2, 0, 2, 3, 1, 1.0], [0, 8, 1.0, 1.0, 1, 2, 1, 1, 3, 0, 1.0], [1, 9, 1.0, 0.0, 1, 2, 1, 1, 3, 0, 1.0], [1, 7, 0.0, 1.0, 1, 4, 1, 1, 4, 2, 1.0], [1, 8, 0.0, 1.0, 1, 2, 0, 3, 3, 0, 1.0], [1, 5, 1.0, 0.0, 1, 3, 1, 2, 4, 0, 1.0]]\n",
      "\n",
      "[]\n",
      "['id', 'gender', 'age', 'hypertension', 'heart_disease', 'ever_married', 'work_type', 'Residence_type', 'avg_glucose_level', 'bmi', 'smoking_status']\n",
      "['id', 'gender', 'age', 'hypertension', 'heart_disease', 'ever_married', 'work_type', 'Residence_type', 'avg_glucose_level', 'bmi', 'smoking_status', 'stroke']\n"
     ]
    }
   ],
   "source": [
    "# seperate into new x and y train\n",
    "testing_X_train, testing_y_train = utils.get_trains_seperated(all_data, ['gender', 'age', 'hypertension', 'heart_disease', 'ever_married', 'work_type', 'Residence_type', 'avg_glucose_level', 'bmi', 'smoking_status', 'stroke'], \"stroke\")\n",
    "print(testing_X_train[:10])\n",
    "print()\n",
    "print(testing_y_train[:10])\n",
    "print(testing_col_names)\n",
    "print(stroke_table.column_names)"
   ]
  },
  {
   "cell_type": "markdown",
   "metadata": {},
   "source": [
    "### KNN Classifier"
   ]
  },
  {
   "cell_type": "code",
   "execution_count": 57,
   "metadata": {},
   "outputs": [],
   "source": [
    "knn_classifier = MyKNeighborsClassifier()\n",
    "knn_classifier.fit(testing_X_train, testing_y_train)"
   ]
  },
  {
   "cell_type": "code",
   "execution_count": 56,
   "metadata": {},
   "outputs": [
    {
     "ename": "IndexError",
     "evalue": "list index out of range",
     "output_type": "error",
     "traceback": [
      "\u001b[0;31m---------------------------------------------------------------------------\u001b[0m",
      "\u001b[0;31mIndexError\u001b[0m                                Traceback (most recent call last)",
      "\u001b[0;32m<ipython-input-56-dad021d53b0f>\u001b[0m in \u001b[0;36m<module>\u001b[0;34m\u001b[0m\n\u001b[0;32m----> 1\u001b[0;31m \u001b[0mknn_accuracy\u001b[0m\u001b[0;34m,\u001b[0m \u001b[0mknn_error_rate\u001b[0m \u001b[0;34m=\u001b[0m \u001b[0mutils\u001b[0m\u001b[0;34m.\u001b[0m\u001b[0mget_accuracy_and_error_rate\u001b[0m\u001b[0;34m(\u001b[0m\u001b[0mknn_classifier\u001b[0m\u001b[0;34m)\u001b[0m\u001b[0;34m\u001b[0m\u001b[0;34m\u001b[0m\u001b[0m\n\u001b[0m\u001b[1;32m      2\u001b[0m \u001b[0mprint\u001b[0m\u001b[0;34m(\u001b[0m\u001b[0;34m\"kNN Accuracy:\"\u001b[0m\u001b[0;34m,\u001b[0m \u001b[0mknn_accuracy\u001b[0m\u001b[0;34m)\u001b[0m\u001b[0;34m\u001b[0m\u001b[0;34m\u001b[0m\u001b[0m\n\u001b[1;32m      3\u001b[0m \u001b[0mprint\u001b[0m\u001b[0;34m(\u001b[0m\u001b[0;34m\"kNN Error Rate:\"\u001b[0m\u001b[0;34m,\u001b[0m \u001b[0mknn_error_rate\u001b[0m\u001b[0;34m)\u001b[0m\u001b[0;31m# import myevaluation as myevaluation\u001b[0m\u001b[0;34m\u001b[0m\u001b[0;34m\u001b[0m\u001b[0m\n",
      "\u001b[0;32m~/Desktop/CPSC322/DockerContainerHome/Stroke-Data-Analysis-CPSC322/utils.py\u001b[0m in \u001b[0;36mget_accuracy_and_error_rate\u001b[0;34m(classifier)\u001b[0m\n\u001b[1;32m     19\u001b[0m     \u001b[0mtotal\u001b[0m \u001b[0;34m=\u001b[0m \u001b[0mlen\u001b[0m\u001b[0;34m(\u001b[0m\u001b[0mclassifier\u001b[0m\u001b[0;34m.\u001b[0m\u001b[0mX_train\u001b[0m\u001b[0;34m)\u001b[0m\u001b[0;34m\u001b[0m\u001b[0;34m\u001b[0m\u001b[0m\n\u001b[1;32m     20\u001b[0m     \u001b[0mtotal_correct\u001b[0m \u001b[0;34m=\u001b[0m \u001b[0;36m0\u001b[0m\u001b[0;34m\u001b[0m\u001b[0;34m\u001b[0m\u001b[0m\n\u001b[0;32m---> 21\u001b[0;31m     \u001b[0mpredictions\u001b[0m \u001b[0;34m=\u001b[0m \u001b[0mclassifier\u001b[0m\u001b[0;34m.\u001b[0m\u001b[0mpredict\u001b[0m\u001b[0;34m(\u001b[0m\u001b[0mclassifier\u001b[0m\u001b[0;34m.\u001b[0m\u001b[0mX_train\u001b[0m\u001b[0;34m)\u001b[0m\u001b[0;34m\u001b[0m\u001b[0;34m\u001b[0m\u001b[0m\n\u001b[0m\u001b[1;32m     22\u001b[0m     \u001b[0;32mfor\u001b[0m \u001b[0mi\u001b[0m\u001b[0;34m,\u001b[0m \u001b[0mval\u001b[0m \u001b[0;32min\u001b[0m \u001b[0menumerate\u001b[0m\u001b[0;34m(\u001b[0m\u001b[0mpredictions\u001b[0m\u001b[0;34m)\u001b[0m\u001b[0;34m:\u001b[0m\u001b[0;34m\u001b[0m\u001b[0;34m\u001b[0m\u001b[0m\n\u001b[1;32m     23\u001b[0m         \u001b[0;32mif\u001b[0m \u001b[0mval\u001b[0m \u001b[0;34m==\u001b[0m \u001b[0mclassifier\u001b[0m\u001b[0;34m.\u001b[0m\u001b[0my_train\u001b[0m\u001b[0;34m[\u001b[0m\u001b[0mi\u001b[0m\u001b[0;34m]\u001b[0m\u001b[0;34m:\u001b[0m\u001b[0;34m\u001b[0m\u001b[0;34m\u001b[0m\u001b[0m\n",
      "\u001b[0;32m~/Desktop/CPSC322/DockerContainerHome/Stroke-Data-Analysis-CPSC322/myclassifiers.py\u001b[0m in \u001b[0;36mpredict\u001b[0;34m(self, X_test)\u001b[0m\n\u001b[1;32m    187\u001b[0m             \u001b[0mtotal\u001b[0m \u001b[0;34m=\u001b[0m \u001b[0;36m0\u001b[0m\u001b[0;34m\u001b[0m\u001b[0;34m\u001b[0m\u001b[0m\n\u001b[1;32m    188\u001b[0m             \u001b[0;32mfor\u001b[0m \u001b[0mj\u001b[0m \u001b[0;32min\u001b[0m \u001b[0mk\u001b[0m\u001b[0;34m:\u001b[0m\u001b[0;34m\u001b[0m\u001b[0;34m\u001b[0m\u001b[0m\n\u001b[0;32m--> 189\u001b[0;31m                 \u001b[0mtotal\u001b[0m \u001b[0;34m+=\u001b[0m \u001b[0mtrain_copy\u001b[0m\u001b[0;34m[\u001b[0m\u001b[0mj\u001b[0m\u001b[0;34m]\u001b[0m\u001b[0;34m\u001b[0m\u001b[0;34m\u001b[0m\u001b[0m\n\u001b[0m\u001b[1;32m    190\u001b[0m             \u001b[0mavg\u001b[0m \u001b[0;34m=\u001b[0m \u001b[0mround\u001b[0m\u001b[0;34m(\u001b[0m\u001b[0mtotal\u001b[0m \u001b[0;34m/\u001b[0m \u001b[0mlen\u001b[0m\u001b[0;34m(\u001b[0m\u001b[0mk\u001b[0m\u001b[0;34m)\u001b[0m\u001b[0;34m)\u001b[0m\u001b[0;34m\u001b[0m\u001b[0;34m\u001b[0m\u001b[0m\n\u001b[1;32m    191\u001b[0m             \u001b[0mfinal\u001b[0m \u001b[0;34m=\u001b[0m \u001b[0munique\u001b[0m\u001b[0;34m[\u001b[0m\u001b[0mavg\u001b[0m\u001b[0;34m]\u001b[0m\u001b[0;34m\u001b[0m\u001b[0;34m\u001b[0m\u001b[0m\n",
      "\u001b[0;31mIndexError\u001b[0m: list index out of range"
     ]
    }
   ],
   "source": [
    "knn_accuracy, knn_error_rate = utils.get_accuracy_and_error_rate(knn_classifier)\n",
    "print(\"kNN Accuracy:\", knn_accuracy)\n",
    "print(\"kNN Error Rate:\", knn_error_rate)# import myevaluation as myevaluation"
   ]
  },
  {
   "cell_type": "markdown",
   "metadata": {},
   "source": [
    "### Decision Tree Classifier"
   ]
  },
  {
   "cell_type": "code",
   "execution_count": 485,
   "metadata": {},
   "outputs": [],
   "source": [
    "DT_classifier = MyDecisionTreeClassifier()\n",
    "DT_classifier.fit(testing_X_train, testing_y_train)"
   ]
  },
  {
   "cell_type": "code",
   "execution_count": 486,
   "metadata": {},
   "outputs": [
    {
     "name": "stdout",
     "output_type": "stream",
     "text": [
      "Decision Tree Accuracy: 0.8413654618473896\n",
      "Decision Tree Error Rate: 0.15863453815261042\n"
     ]
    }
   ],
   "source": [
    "DT_accuracy, DT_error_rate = utils.get_accuracy_and_error_rate(DT_classifier)\n",
    "print(\"Decision Tree Accuracy:\", DT_accuracy)\n",
    "print(\"Decision Tree Error Rate:\", DT_error_rate)"
   ]
  },
  {
   "cell_type": "markdown",
   "metadata": {},
   "source": [
    "As we can see, when we have equally distributed data on both sides... it makes for more reasonable outcome acuracy collection. We now have a much better sense of how accurate our classifiers are, and can see that in this case, the Decision Tree Classifier had a higher accuracy than the kNN classifier. However, they were still both reasonably accurate!"
   ]
  },
  {
   "cell_type": "markdown",
   "metadata": {},
   "source": [
    "### Random Forest Classifier"
   ]
  },
  {
   "cell_type": "code",
   "execution_count": null,
   "metadata": {},
   "outputs": [],
   "source": [
    "RF_classifier = MyRandomForestClassifier()\n",
    "RF_classifier.fit(testing_X_train, testing_y_train)"
   ]
  },
  {
   "cell_type": "code",
   "execution_count": null,
   "metadata": {},
   "outputs": [],
   "source": [
    "RF_accuracy, RF_error_rate = utils.get_accuracy_and_error_rate(DT_classifier)\n",
    "print(\"Random Forest Accuracy:\", RF_accuracy)\n",
    "print(\"Random Forest Error Rate:\", RF_error_rate)"
   ]
  }
 ],
 "metadata": {
  "kernelspec": {
   "display_name": "Python 3",
   "language": "python",
   "name": "python3"
  },
  "language_info": {
   "codemirror_mode": {
    "name": "ipython",
    "version": 3
   },
   "file_extension": ".py",
   "mimetype": "text/x-python",
   "name": "python",
   "nbconvert_exporter": "python",
   "pygments_lexer": "ipython3",
   "version": "3.8.3"
  }
 },
 "nbformat": 4,
 "nbformat_minor": 4
}
