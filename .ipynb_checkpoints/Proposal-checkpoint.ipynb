{
 "cells": [
  {
   "cell_type": "markdown",
   "metadata": {},
   "source": [
    "# Stroke Data Analysis"
   ]
  },
  {
   "cell_type": "markdown",
   "metadata": {},
   "source": [
    "## Sam Toll and Sabrina Ollestad"
   ]
  },
  {
   "cell_type": "markdown",
   "metadata": {},
   "source": [
    "### Dataset Description"
   ]
  },
  {
   "cell_type": "markdown",
   "metadata": {},
   "source": [
    "**Source, Format, and Contents:** Our dataset is named \"healthcare-dataset-stroke-data\" and is sourced from Kaggle.com at the url https://www.kaggle.com/fedesoriano/stroke-prediction-dataset. It is downloadable into CSV format and contains 12 attributes and around 5,000 data instances."
   ]
  },
  {
   "cell_type": "markdown",
   "metadata": {},
   "source": [
    "**Description:** In the stroke dataset we chose there are attributes such as age, gender, and BMI that are used to predict whether or not a person will have a stroke in their lifetime. We chose to use Gender, Age, BMi, Marriage Status, Work Type, and Heart Disease because we could see the largest correlation between these attributes and the stroke result.  \n",
    "  \n",
    "Our goal is to predict how likely it is an individual will suffer from a stroke in their lifetime based on their physical condition and lifestyle choices."
   ]
  },
  {
   "cell_type": "markdown",
   "metadata": {},
   "source": [
    "### Implementation / Technical Merit"
   ]
  },
  {
   "cell_type": "markdown",
   "metadata": {},
   "source": [
    "**Anticipated Challenges:** We anticipate categorizing some of the numerical values to be a challenge, as well as what ranges to use in order to perform the classification on certain attributes. Another challenge we anticipate is the cleaning and determining what to do with missing values. Lastly, we also anticipate facing challenges determining what method of classification will give us the best prediction, making sure we are using the best fitting attributes that will give us the most accurate results."
   ]
  },
  {
   "cell_type": "markdown",
   "metadata": {},
   "source": [
    "**Feature Selection:** There are only 10 attributes in our chosen dataset, so therefore there are not too many to narrow down from. However, we looked over the dataset and chose the attributes that appeared to have the most impact on the results, as well as correlate strongly with having a stroke or not."
   ]
  },
  {
   "cell_type": "markdown",
   "metadata": {},
   "source": [
    "### Potential Impact of Results"
   ]
  },
  {
   "cell_type": "markdown",
   "metadata": {},
   "source": [
    "**Why are the Results Useful?** These results will be extremely useful in the real world because they will be helpful in predicting the likelihood an individual will have a stroke based upon their lifestyle and current living conditions. They will allow doctors to be more accurate when warning adults of risk-of-stroke, as well as giving people a better chance of knowing if they are at risk or not. If this classification is successful, it will provide which physical, mental, and lifestyle choices can increase risk of stroke, and therefore make sure lifestyle changes can be made in advance... and hopefully help save lives."
   ]
  },
  {
   "cell_type": "markdown",
   "metadata": {},
   "source": [
    "**Who are the Stakeholders?** The stakeholds could be any individual who is concerned about having a stroke in their lifetime, or truly anyone at all who may not be aware they are at risk. This could also involve doctors and medical researchers in aiding with their predictions and warning of stroke possibilities."
   ]
  }
 ],
 "metadata": {
  "kernelspec": {
   "display_name": "Python 3",
   "language": "python",
   "name": "python3"
  },
  "language_info": {
   "codemirror_mode": {
    "name": "ipython",
    "version": 3
   },
   "file_extension": ".py",
   "mimetype": "text/x-python",
   "name": "python",
   "nbconvert_exporter": "python",
   "pygments_lexer": "ipython3",
   "version": "3.8.3"
  }
 },
 "nbformat": 4,
 "nbformat_minor": 4
}
