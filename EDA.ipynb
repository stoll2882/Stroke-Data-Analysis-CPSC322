{
 "cells": [
  {
   "cell_type": "markdown",
   "metadata": {},
   "source": [
    "# Stroke Data Analysis\n",
    "\n",
    "Dataset source:https://www.kaggle.com/fedesoriano/stroke-prediction-dataset  \n",
    "Note: A copy of this dataset is saved as healthcare-dataset-stroke-data.csv\n",
    "\n",
    "For this project we were provided the following feilds in our dataset:    \n",
    "* Gender\n",
    "* Age\n",
    "* Hypertension\n",
    "* Heart Disease\n",
    "* Marital Status\n",
    "* Work Type\n",
    "* Residence Type\n",
    "* Glucose Level\n",
    "* BMI\n",
    "* Smoking Status\n",
    "\n",
    "And will be using them to predict the following field:\n",
    "* Stroke or no Stroke\n",
    "\n",
    "**This data will help up predict the probablity of another person having a stroke given their information.**"
   ]
  },
  {
   "cell_type": "markdown",
   "metadata": {},
   "source": [
    "### Gathering Data into Table  \n",
    "\n",
    "To gather the data into a table, we used MyPyTable to simply table formation. We loaded the data into a MyPyTable object to be manipulated."
   ]
  },
  {
   "cell_type": "code",
   "execution_count": 1,
   "metadata": {},
   "outputs": [
    {
     "output_type": "error",
     "ename": "ModuleNotFoundError",
     "evalue": "No module named 'MyPyTable'",
     "traceback": [
      "\u001b[0;31m---------------------------------------------------------------------------\u001b[0m",
      "\u001b[0;31mModuleNotFoundError\u001b[0m                       Traceback (most recent call last)",
      "\u001b[0;32m<ipython-input-1-39b1005091ca>\u001b[0m in \u001b[0;36m<module>\u001b[0;34m\u001b[0m\n\u001b[1;32m      2\u001b[0m \u001b[0;32mimport\u001b[0m \u001b[0mutils\u001b[0m\u001b[0;34m\u001b[0m\u001b[0;34m\u001b[0m\u001b[0m\n\u001b[1;32m      3\u001b[0m \u001b[0;31m# from mypytable import MyPyTable\u001b[0m\u001b[0;34m\u001b[0m\u001b[0;34m\u001b[0m\u001b[0;34m\u001b[0m\u001b[0m\n\u001b[0;32m----> 4\u001b[0;31m \u001b[0;32mfrom\u001b[0m \u001b[0mMyPyTable\u001b[0m \u001b[0;32mimport\u001b[0m \u001b[0mMyPyTable\u001b[0m\u001b[0;34m\u001b[0m\u001b[0;34m\u001b[0m\u001b[0m\n\u001b[0m\u001b[1;32m      5\u001b[0m \u001b[0mstroke_table\u001b[0m \u001b[0;34m=\u001b[0m \u001b[0mMyPyTable\u001b[0m\u001b[0;34m(\u001b[0m\u001b[0;34m)\u001b[0m\u001b[0;34m\u001b[0m\u001b[0;34m\u001b[0m\u001b[0m\n\u001b[1;32m      6\u001b[0m \u001b[0mstroke_table\u001b[0m\u001b[0;34m.\u001b[0m\u001b[0mload_from_file\u001b[0m\u001b[0;34m(\u001b[0m\u001b[0;34m\"healthcare-dataset-stroke-data.csv\"\u001b[0m\u001b[0;34m)\u001b[0m\u001b[0;34m;\u001b[0m\u001b[0;34m\u001b[0m\u001b[0;34m\u001b[0m\u001b[0m\n",
      "\u001b[0;31mModuleNotFoundError\u001b[0m: No module named 'MyPyTable'"
     ]
    }
   ],
   "source": [
    "import importlib\n",
    "import utils\n",
    "# from mypytable import MyPyTable\n",
    "from MyPyTable import MyPyTable\n",
    "stroke_table = MyPyTable()\n",
    "stroke_table.load_from_file(\"healthcare-dataset-stroke-data.csv\");"
   ]
  },
  {
   "cell_type": "markdown",
   "metadata": {},
   "source": [
    "### Dealing With Missing Values  \n",
    "\n",
    "To deal with the missing N/A values, as well as the unknowns - we removed all rows that contained any of these values as we deemed them unncessary. Giving the class imbalance, we double checked to make sure if we rid of the unknown values that it would not effect the class imbalance too greatly... and we concluded it would not.  \n",
    "\n",
    "We also concluded there would still be enough data to preform the classifications."
   ]
  },
  {
   "cell_type": "code",
   "execution_count": 91,
   "metadata": {},
   "outputs": [
    {
     "name": "stdout",
     "output_type": "stream",
     "text": [
      "New length of Table: 3364\n"
     ]
    }
   ],
   "source": [
    "# Remove missing values removes all rows that contain an \"N/A\" or \"Unknown\" field\n",
    "stroke_table.remove_rows_with_missing_values()\n",
    "# Convert to numeric converts all the numeric values in the table into numeric values (as they were read as strings)\n",
    "stroke_table.convert_to_numeric()\n",
    "print(\"New length of Table:\", len(stroke_table.data))"
   ]
  },
  {
   "cell_type": "markdown",
   "metadata": {},
   "source": [
    "### Data Classification  \n",
    "\n",
    "Many of the attributes are string values, and in order to perform the attribute selection with SckiLearns method... they needed to be numerical fields. Therefore we classified the string values as numerical fields as well as transformed the large numerical values into smaller numerical categories as well. Below you can see the classifications that were made.\n",
    "\n",
    "**Gender:**\n",
    "* Male: 0\n",
    "* Female: 1\n",
    "\n",
    "**Age:**\n",
    "* <2 years old: 0\n",
    "* <10 years old: 1\n",
    "* <30 years old: 3\n",
    "* <40 years old: 4\n",
    "* <50 years old: 5\n",
    "* <60 years old: 6\n",
    "* <70 years old: 7\n",
    "* <80 years old: 8\n",
    "* <90 years old: 9\n",
    "* Older than 90: 10\n",
    "\n",
    "**Marital Status:**\n",
    "* No: 0\n",
    "* Yes: 1\n",
    "\n",
    "**Work Status:**\n",
    "* Never Worked: 0\n",
    "* Children: 1\n",
    "* Private: 2\n",
    "* Self-Employed: 3\n",
    "* Government-Job: 4\n",
    "\n",
    "**Residence Type:**\n",
    "* Urban: 0\n",
    "* Rural: 1\n",
    "\n",
    "**Glucose Level:**\n",
    "* <70: 0\n",
    "* <140: 1\n",
    "* <200: 2\n",
    "* Greater than 200: 3\n",
    "\n",
    "**BMI:**\n",
    "* <15: 0\n",
    "* <20: 1\n",
    "* <25: 2\n",
    "* <30: 3\n",
    "* <40: 4\n",
    "* Greater than 40: 5\n",
    "\n",
    "**Smoking Status:**\n",
    "* Never Smoked: 0\n",
    "* Formerly Smoked: 1\n",
    "* Smokes: 2"
   ]
  },
  {
   "cell_type": "code",
   "execution_count": 92,
   "metadata": {},
   "outputs": [
    {
     "name": "stdout",
     "output_type": "stream",
     "text": [
      "[9046.0, 'Male', 67.0, 0.0, 1.0, 'Yes', 'Private', 'Urban', 228.69, 36.6, 'formerly smoked', 1.0]\n"
     ]
    }
   ],
   "source": [
    "importlib.reload(utils);\n",
    "print(stroke_table.data[0]);"
   ]
  },
  {
   "cell_type": "code",
   "execution_count": 94,
   "metadata": {},
   "outputs": [
    {
     "name": "stdout",
     "output_type": "stream",
     "text": [
      "[9046.0, 0, 7, 0.0, 1.0, 1, 2, 0, 3, 4, 1, 1.0]\n"
     ]
    }
   ],
   "source": [
    "# First time running, you have to run this cell twice in order to let it catch up and print the classification as it is correctly\n",
    "classified_data = utils.classify_stroke_data(stroke_table.data)\n",
    "print(classified_data[0])"
   ]
  },
  {
   "cell_type": "markdown",
   "metadata": {},
   "source": [
    "### Remove Irrelevant Columns  \n",
    "\n",
    "Because the ID column is not neccessary in our classification, we removed it so that ID would not be a field in deciding whether or not someone will have a stroke. As there is no correlation between ID number, and result."
   ]
  },
  {
   "cell_type": "code",
   "execution_count": 95,
   "metadata": {},
   "outputs": [
    {
     "name": "stdout",
     "output_type": "stream",
     "text": [
      "[0, 7, 0.0, 1.0, 1, 2, 0, 3, 4, 1, 1.0]\n"
     ]
    }
   ],
   "source": [
    "classified_data = utils.remove_id_column(classified_data)\n",
    "print(classified_data[0])"
   ]
  },
  {
   "cell_type": "code",
   "execution_count": 96,
   "metadata": {},
   "outputs": [],
   "source": [
    "stroke_table.data = classified_data\n",
    "# Getting rid of one row with other gender option\n",
    "del stroke_table.data[2055]"
   ]
  },
  {
   "cell_type": "code",
   "execution_count": 97,
   "metadata": {},
   "outputs": [],
   "source": [
    "stroke_table.save_to_file('newfile.csv')"
   ]
  },
  {
   "cell_type": "markdown",
   "metadata": {},
   "source": [
    "### Seperate Data into X and y Trains"
   ]
  },
  {
   "cell_type": "code",
   "execution_count": 98,
   "metadata": {},
   "outputs": [],
   "source": [
    "del stroke_table.column_names[0]\n",
    "X_train, y_train = utils.get_trains_seperated(classified_data, stroke_table.column_names, \"stroke\")"
   ]
  },
  {
   "cell_type": "markdown",
   "metadata": {},
   "source": [
    "### Attribute Selection with SciLearn"
   ]
  },
  {
   "cell_type": "markdown",
   "metadata": {},
   "source": [
    "We used SkiLearns SelectKBest Algorithm in order to select the best attributes with the largest correlation to the resulting outcome.  \n",
    "\n"
   ]
  },
  {
   "cell_type": "code",
   "execution_count": 99,
   "metadata": {},
   "outputs": [
    {
     "name": "stdout",
     "output_type": "stream",
     "text": [
      "['gender', 'age', 'hypertension', 'heart_disease', 'ever_married', 'work_type', 'Residence_type', 'avg_glucose_level', 'bmi', 'smoking_status', 'stroke']\n"
     ]
    }
   ],
   "source": [
    "from sklearn.feature_selection import SelectKBest\n",
    "print(stroke_table.column_names)"
   ]
  },
  {
   "cell_type": "code",
   "execution_count": 100,
   "metadata": {},
   "outputs": [
    {
     "name": "stdout",
     "output_type": "stream",
     "text": [
      "[[7. 0. 1. 1. 3. 4.]\n",
      " [8. 0. 1. 1. 1. 4.]\n",
      " [5. 0. 0. 1. 2. 4.]\n",
      " ...\n",
      " [9. 0. 0. 1. 1. 4.]\n",
      " [4. 0. 0. 1. 1. 4.]\n",
      " [6. 0. 0. 1. 2. 3.]]\n",
      "3363\n"
     ]
    }
   ],
   "source": [
    "X_best = SelectKBest(k=6).fit_transform(X_train, y_train)\n",
    "print(X_best)\n",
    "print(len(X_best))"
   ]
  },
  {
   "cell_type": "code",
   "execution_count": 101,
   "metadata": {},
   "outputs": [],
   "source": [
    "# Use 6 attributes the algorithm selected to create the new header:\n",
    "new_header = ['age', 'hypertension', 'heart_disease', 'ever_married', 'avg_glucose_level', 'bmi']"
   ]
  },
  {
   "cell_type": "markdown",
   "metadata": {},
   "source": [
    "### Attribute Selection Without SciLearn\n",
    "\n",
    "We selected these attributes to use from the data set because we could identify the largest correclations between those upon inital scanning throug the set. \n",
    "\n",
    "While grabbing the inital columns for these attributes we wanted to make sure to keep them all the same length and raw so that we can make sure to keep every persons profiles intact across the columns. For this we used a simple function to grab the entire column without cleaning out and NA values so we can send them into a new file. "
   ]
  },
  {
   "cell_type": "code",
   "execution_count": 102,
   "metadata": {},
   "outputs": [],
   "source": [
    "selected_cols = ['gender', 'age', 'heart_disease', 'ever_married', 'work_type', 'bmi', 'stroke']\n",
    "selected_data = [[]]\n",
    "gender_col = utils.get_col_no_clean(stroke_table.data, stroke_table.column_names, \"gender\")\n",
    "selected_data.append(gender_col)\n",
    "age_col =  utils.get_col_no_clean(stroke_table.data, stroke_table.column_names, \"age\")\n",
    "selected_data.append(age_col)\n",
    "heart_disease_col =  utils.get_col_no_clean(stroke_table.data, stroke_table.column_names, \"heart_disease\")\n",
    "selected_data.append(heart_disease_col)\n",
    "married_col = utils.get_col_no_clean(stroke_table.data, stroke_table.column_names, \"ever_married\")\n",
    "selected_data.append(married_col)\n",
    "work_type_col = utils.get_col_no_clean(stroke_table.data, stroke_table.column_names, \"work_type\")\n",
    "selected_data.append(work_type_col)\n",
    "bmi_col = utils.get_col_no_clean(stroke_table.data, stroke_table.column_names, \"bmi\")\n",
    "selected_data.append(bmi_col)\n",
    "stroke_col = utils.get_col_no_clean(stroke_table.data, stroke_table.column_names, \"stroke\")\n",
    "selected_data.append(stroke_col)\n",
    "\n",
    "stroke_data = MyPyTable(selected_cols,selected_data)\n",
    "#stroke_data.save_to_file(\"refined_cols.csv\")\n",
    "   "
   ]
  },
  {
   "cell_type": "markdown",
   "metadata": {},
   "source": [
    "We will use a frequency diagram to look at ditrubutions within the dataset to being understanding it further."
   ]
  },
  {
   "cell_type": "code",
   "execution_count": 103,
   "metadata": {},
   "outputs": [
    {
     "data": {
      "image/png": "[encoded data removed]",
      "text/plain": [
       "<Figure size 432x288 with 1 Axes>"
      ]
     },
     "metadata": {},
     "output_type": "display_data"
    },
    {
     "name": "stdout",
     "output_type": "stream",
     "text": [
      "Number of data entries:  3363\n",
      "Number Had Stroke:  162.0\n",
      "Number Did Not Have Stroke:  3201.0\n"
     ]
    }
   ],
   "source": [
    "importlib.reload(utils)\n",
    "import plot_utils\n",
    "\n",
    "title = \"Class Distribution\"\n",
    "utils.convert_to_numeric(stroke_col)\n",
    "stroke_vals = [\"Had Stroke\", \"No Stroke\"]\n",
    "percents = []\n",
    "num_strokes = sum(stroke_col)\n",
    "\n",
    "num_entries = len(stroke_col)\n",
    "num_no_strokes = num_entries - num_strokes\n",
    "\n",
    "\n",
    "stroke_percent = num_strokes / num_entries\n",
    "percents.append(stroke_percent)\n",
    "no_stroke_percent = num_no_strokes / num_entries\n",
    "percents.append(no_stroke_percent)\n",
    "\n",
    "plot_utils.pie_chart(stroke_vals, percents, title)\n",
    "\n",
    "print(\"Number of data entries: \", num_entries)\n",
    "print(\"Number Had Stroke: \", num_strokes)\n",
    "print(\"Number Did Not Have Stroke: \", num_no_strokes)\n",
    "\n"
   ]
  },
  {
   "cell_type": "markdown",
   "metadata": {},
   "source": [
    "### Class Imbalance\n",
    "\n",
    "As shown in the distribution pie chart, the class distribution is extremely skewed to the non-stoke side where there are 4,861 cases of no stroke compared to 249 cases that resulted in stroke. While this is good news that there were not nearly as many people that had a stroke, this is something we will have to be very careful with throughout the rest of our data exploration and classifications.\n",
    "\n",
    "#### Reseaching   \n",
    "Looking at a few sources on dealing with class imbalance so far we have determined that two of the most relevant approaches we should take "
   ]
  },
  {
   "cell_type": "markdown",
   "metadata": {},
   "source": [
    "## Data Classification with Our Classifiers"
   ]
  },
  {
   "cell_type": "markdown",
   "metadata": {},
   "source": [
    "We plan to use a couple of our own classifiers, along with the RandomForestClassifier in order to test which classifier will be the most accurate to use in our final data classification."
   ]
  },
  {
   "cell_type": "code",
   "execution_count": 104,
   "metadata": {},
   "outputs": [],
   "source": [
    "# Import Classifiers\n",
    "from myclassifiers import MyKNeighborsClassifier, MySimpleLinearRegressor, MyNaiveBayesClassifier, MyDecisionTreeClassifier\n",
    "import myclassifiers\n",
    "importlib.reload(myclassifiers);"
   ]
  },
  {
   "cell_type": "markdown",
   "metadata": {},
   "source": [
    "### KNN Classifier"
   ]
  },
  {
   "cell_type": "code",
   "execution_count": 105,
   "metadata": {},
   "outputs": [],
   "source": [
    "knn_classifier = MyKNeighborsClassifier()\n",
    "knn_classifier.fit(X_train, y_train)"
   ]
  },
  {
   "cell_type": "code",
   "execution_count": 106,
   "metadata": {},
   "outputs": [
    {
     "name": "stdout",
     "output_type": "stream",
     "text": [
      "kNN Accuracy: 0.9387451680047576\n",
      "kNN Error Rate: 0.0612548319952424\n"
     ]
    }
   ],
   "source": [
    "knn_accuracy, knn_error_rate = utils.get_accuracy_and_error_rate(knn_classifier)\n",
    "print(\"kNN Accuracy:\", knn_accuracy)\n",
    "print(\"kNN Error Rate:\", knn_error_rate)# import myevaluation as myevaluation"
   ]
  },
  {
   "cell_type": "markdown",
   "metadata": {},
   "source": [
    "### Decision Tree Classifier"
   ]
  },
  {
   "cell_type": "code",
   "execution_count": 107,
   "metadata": {},
   "outputs": [],
   "source": [
    "DT_classifier = MyDecisionTreeClassifier()\n",
    "DT_classifier.fit(X_train, y_train)"
   ]
  },
  {
   "cell_type": "code",
   "execution_count": 108,
   "metadata": {},
   "outputs": [
    {
     "name": "stdout",
     "output_type": "stream",
     "text": [
      "Decision Tree Accuracy: 0.9542075527802557\n",
      "Decision Tree Error Rate: 0.04579244721974429\n"
     ]
    }
   ],
   "source": [
    "DT_accuracy, DT_error_rate = utils.get_accuracy_and_error_rate(DT_classifier)\n",
    "print(\"Decision Tree Accuracy:\", DT_accuracy)\n",
    "print(\"Decision Tree Error Rate:\", DT_error_rate)"
   ]
  },
  {
   "cell_type": "markdown",
   "metadata": {},
   "source": [
    "### Random Forest Classifier"
   ]
  },
  {
   "cell_type": "markdown",
   "metadata": {},
   "source": [
    "Random Forest Classifier soon to come..."
   ]
  },
  {
   "source": [
    "### Invesitgating unknowns in the \"smoking_status\" column to be able to use more data points"
   ],
   "cell_type": "markdown",
   "metadata": {}
  },
  {
   "cell_type": "code",
   "execution_count": null,
   "metadata": {},
   "outputs": [],
   "source": [
    "smoke_values, smoke_counts = utils.get_frequencies(in_file, header, \"smoking_status\")\n",
    "\n",
    "smoke_title = \"Frequency Distribution by Cylinders\"\n",
    "plot_utils.bar_chart(smoke_values, smoke_counts, smoke_title)"
   ]
  }
 ],
 "metadata": {
  "kernelspec": {
   "name": "python385jvsc74a57bd098b0a9b7b4eaaa670588a142fd0a9b87eaafe866f1db4228be72b4211d12040f",
   "display_name": "Python 3.8.5 64-bit ('base': conda)"
  },
  "language_info": {
   "codemirror_mode": {
    "name": "ipython",
    "version": 3
   },
   "file_extension": ".py",
   "mimetype": "text/x-python",
   "name": "python",
   "nbconvert_exporter": "python",
   "pygments_lexer": "ipython3",
   "version": "3.8.5"
  }
 },
 "nbformat": 4,
 "nbformat_minor": 4
}